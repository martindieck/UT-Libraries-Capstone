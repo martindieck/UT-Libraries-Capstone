{
 "cells": [
  {
   "cell_type": "markdown",
   "metadata": {},
   "source": [
    "# Preliminary Data Exploration\n",
    "### UT Libraries Alexander Architectural Archives (AAA)"
   ]
  },
  {
   "cell_type": "code",
   "execution_count": 2,
   "metadata": {},
   "outputs": [],
   "source": [
    "# Importing the necessary modules\n",
    "import pandas as pd\n",
    "import numpy as np\n",
    "import matplotlib.pyplot as plt\n",
    "import seaborn as sns"
   ]
  },
  {
   "cell_type": "code",
   "execution_count": 3,
   "metadata": {},
   "outputs": [
    {
     "name": "stderr",
     "output_type": "stream",
     "text": [
      "/var/folders/cy/_c4my0s16kx40fz9sqzmt8n00000gn/T/ipykernel_6105/4167879345.py:1: DtypeWarning: Columns (30,32,35,36) have mixed types. Specify dtype option on import or set low_memory=False.\n",
      "  df = pd.read_csv('collections.csv')\n"
     ]
    },
    {
     "data": {
      "text/html": [
       "<div>\n",
       "<style scoped>\n",
       "    .dataframe tbody tr th:only-of-type {\n",
       "        vertical-align: middle;\n",
       "    }\n",
       "\n",
       "    .dataframe tbody tr th {\n",
       "        vertical-align: top;\n",
       "    }\n",
       "\n",
       "    .dataframe thead th {\n",
       "        text-align: right;\n",
       "    }\n",
       "</style>\n",
       "<table border=\"1\" class=\"dataframe\">\n",
       "  <thead>\n",
       "    <tr style=\"text-align: right;\">\n",
       "      <th></th>\n",
       "      <th>unique ID</th>\n",
       "      <th>coll code</th>\n",
       "      <th>Collection</th>\n",
       "      <th>Project name</th>\n",
       "      <th>Project number</th>\n",
       "      <th>Street address</th>\n",
       "      <th>City</th>\n",
       "      <th>County</th>\n",
       "      <th>State/Province</th>\n",
       "      <th>Country</th>\n",
       "      <th>...</th>\n",
       "      <th>Entry date:</th>\n",
       "      <th>Rev. date:</th>\n",
       "      <th>Pres. notes:</th>\n",
       "      <th>treatment completed A</th>\n",
       "      <th>treatment completed B</th>\n",
       "      <th>treatment completed C</th>\n",
       "      <th>treatment completed D</th>\n",
       "      <th>treatment completed E</th>\n",
       "      <th>Accession #</th>\n",
       "      <th>Holding institution:</th>\n",
       "    </tr>\n",
       "  </thead>\n",
       "  <tbody>\n",
       "    <tr>\n",
       "      <th>0</th>\n",
       "      <td>9179</td>\n",
       "      <td>AA</td>\n",
       "      <td>Ayres &amp; Ayres, Architects records</td>\n",
       "      <td>A. F. Sayers residence.</td>\n",
       "      <td>NaN</td>\n",
       "      <td>Hollywood Blvd</td>\n",
       "      <td>San Antonio</td>\n",
       "      <td>Bexar</td>\n",
       "      <td>Texas</td>\n",
       "      <td>United States</td>\n",
       "      <td>...</td>\n",
       "      <td>NaN</td>\n",
       "      <td>Fri Feb 02 00:00:00 CST 2018</td>\n",
       "      <td>NaN</td>\n",
       "      <td>NaN</td>\n",
       "      <td>NaN</td>\n",
       "      <td>NaN</td>\n",
       "      <td>NaN</td>\n",
       "      <td>NaN</td>\n",
       "      <td>NaN</td>\n",
       "      <td>NaN</td>\n",
       "    </tr>\n",
       "    <tr>\n",
       "      <th>1</th>\n",
       "      <td>9180</td>\n",
       "      <td>AA</td>\n",
       "      <td>Ayres &amp; Ayres, Architects records</td>\n",
       "      <td>A.M. Russ residence.</td>\n",
       "      <td>NaN</td>\n",
       "      <td>Alamo Heights</td>\n",
       "      <td>San Antonio</td>\n",
       "      <td>Bexar</td>\n",
       "      <td>Texas</td>\n",
       "      <td>United States</td>\n",
       "      <td>...</td>\n",
       "      <td>NaN</td>\n",
       "      <td>NaN</td>\n",
       "      <td>NaN</td>\n",
       "      <td>NaN</td>\n",
       "      <td>NaN</td>\n",
       "      <td>NaN</td>\n",
       "      <td>NaN</td>\n",
       "      <td>NaN</td>\n",
       "      <td>NaN</td>\n",
       "      <td>NaN</td>\n",
       "    </tr>\n",
       "    <tr>\n",
       "      <th>2</th>\n",
       "      <td>9181</td>\n",
       "      <td>AA</td>\n",
       "      <td>Ayres &amp; Ayres, Architects records</td>\n",
       "      <td>Southwest Research Institute. Building 87 Vehi...</td>\n",
       "      <td>NaN</td>\n",
       "      <td>Culebra Rd</td>\n",
       "      <td>San Antonio</td>\n",
       "      <td>Bexar</td>\n",
       "      <td>Texas</td>\n",
       "      <td>United States</td>\n",
       "      <td>...</td>\n",
       "      <td>Mon Mar 20 00:00:00 CST 2006</td>\n",
       "      <td>NaN</td>\n",
       "      <td>NaN</td>\n",
       "      <td>NaN</td>\n",
       "      <td>NaN</td>\n",
       "      <td>NaN</td>\n",
       "      <td>NaN</td>\n",
       "      <td>NaN</td>\n",
       "      <td>NaN</td>\n",
       "      <td>NaN</td>\n",
       "    </tr>\n",
       "    <tr>\n",
       "      <th>3</th>\n",
       "      <td>9182</td>\n",
       "      <td>AA</td>\n",
       "      <td>Ayres &amp; Ayres, Architects records</td>\n",
       "      <td>Alamo monument.</td>\n",
       "      <td>NaN</td>\n",
       "      <td>NaN</td>\n",
       "      <td>San Antonio</td>\n",
       "      <td>Bexar</td>\n",
       "      <td>Texas</td>\n",
       "      <td>United States</td>\n",
       "      <td>...</td>\n",
       "      <td>Wed Jun 02 00:00:00 CDT 2004</td>\n",
       "      <td>NaN</td>\n",
       "      <td>NaN</td>\n",
       "      <td>NaN</td>\n",
       "      <td>NaN</td>\n",
       "      <td>NaN</td>\n",
       "      <td>NaN</td>\n",
       "      <td>NaN</td>\n",
       "      <td>NaN</td>\n",
       "      <td>NaN</td>\n",
       "    </tr>\n",
       "    <tr>\n",
       "      <th>4</th>\n",
       "      <td>9183</td>\n",
       "      <td>AA</td>\n",
       "      <td>Ayres &amp; Ayres, Architects records</td>\n",
       "      <td>Alamo National Bank building. Proposed.</td>\n",
       "      <td>NaN</td>\n",
       "      <td>154 Commerce St.</td>\n",
       "      <td>San Antonio</td>\n",
       "      <td>Bexar</td>\n",
       "      <td>Texas</td>\n",
       "      <td>United States</td>\n",
       "      <td>...</td>\n",
       "      <td>Wed Jun 02 00:00:00 CDT 2004</td>\n",
       "      <td>NaN</td>\n",
       "      <td>NaN</td>\n",
       "      <td>NaN</td>\n",
       "      <td>NaN</td>\n",
       "      <td>NaN</td>\n",
       "      <td>NaN</td>\n",
       "      <td>NaN</td>\n",
       "      <td>NaN</td>\n",
       "      <td>NaN</td>\n",
       "    </tr>\n",
       "  </tbody>\n",
       "</table>\n",
       "<p>5 rows × 37 columns</p>\n",
       "</div>"
      ],
      "text/plain": [
       "   unique ID coll code                         Collection  \\\n",
       "0       9179        AA  Ayres & Ayres, Architects records   \n",
       "1       9180        AA  Ayres & Ayres, Architects records   \n",
       "2       9181        AA  Ayres & Ayres, Architects records   \n",
       "3       9182        AA  Ayres & Ayres, Architects records   \n",
       "4       9183        AA  Ayres & Ayres, Architects records   \n",
       "\n",
       "                                        Project name Project number  \\\n",
       "0                            A. F. Sayers residence.            NaN   \n",
       "1                               A.M. Russ residence.            NaN   \n",
       "2  Southwest Research Institute. Building 87 Vehi...            NaN   \n",
       "3                                    Alamo monument.            NaN   \n",
       "4            Alamo National Bank building. Proposed.            NaN   \n",
       "\n",
       "     Street address         City County State/Province        Country  ...  \\\n",
       "0    Hollywood Blvd  San Antonio  Bexar          Texas  United States  ...   \n",
       "1     Alamo Heights  San Antonio  Bexar          Texas  United States  ...   \n",
       "2        Culebra Rd  San Antonio  Bexar          Texas  United States  ...   \n",
       "3               NaN  San Antonio  Bexar          Texas  United States  ...   \n",
       "4  154 Commerce St.  San Antonio  Bexar          Texas  United States  ...   \n",
       "\n",
       "                    Entry date:                    Rev. date: Pres. notes:  \\\n",
       "0                           NaN  Fri Feb 02 00:00:00 CST 2018          NaN   \n",
       "1                           NaN                           NaN          NaN   \n",
       "2  Mon Mar 20 00:00:00 CST 2006                           NaN          NaN   \n",
       "3  Wed Jun 02 00:00:00 CDT 2004                           NaN          NaN   \n",
       "4  Wed Jun 02 00:00:00 CDT 2004                           NaN          NaN   \n",
       "\n",
       "  treatment completed A treatment completed B treatment completed C  \\\n",
       "0                   NaN                   NaN                   NaN   \n",
       "1                   NaN                   NaN                   NaN   \n",
       "2                   NaN                   NaN                   NaN   \n",
       "3                   NaN                   NaN                   NaN   \n",
       "4                   NaN                   NaN                   NaN   \n",
       "\n",
       "   treatment completed D treatment completed E Accession #  \\\n",
       "0                    NaN                   NaN         NaN   \n",
       "1                    NaN                   NaN         NaN   \n",
       "2                    NaN                   NaN         NaN   \n",
       "3                    NaN                   NaN         NaN   \n",
       "4                    NaN                   NaN         NaN   \n",
       "\n",
       "  Holding institution:  \n",
       "0                  NaN  \n",
       "1                  NaN  \n",
       "2                  NaN  \n",
       "3                  NaN  \n",
       "4                  NaN  \n",
       "\n",
       "[5 rows x 37 columns]"
      ]
     },
     "execution_count": 3,
     "metadata": {},
     "output_type": "execute_result"
    }
   ],
   "source": [
    "df = pd.read_csv('collections.csv')\n",
    "df.head()"
   ]
  },
  {
   "cell_type": "code",
   "execution_count": 27,
   "metadata": {},
   "outputs": [
    {
     "name": "stdout",
     "output_type": "stream",
     "text": [
      "Number of unique collections: 130\n"
     ]
    }
   ],
   "source": [
    "number_unique_collections = len(df['Collection'].unique())\n",
    "print(\"Number of unique collections: \" + str(number_unique_collections))"
   ]
  },
  {
   "cell_type": "code",
   "execution_count": 22,
   "metadata": {},
   "outputs": [
    {
     "name": "stdout",
     "output_type": "stream",
     "text": [
      "Top 5 collections by percent of total projects:\n",
      "Collection\n",
      "University of Texas Buildings collection                                                   9.830718\n",
      "University of Texas at Austin, School of Architecture Archives: Student Work collection    6.220123\n",
      "Sanguinet, Staats, and Hedrick records                                                     5.927676\n",
      "Roy L. Thomas collection                                                                   5.387773\n",
      "Ayres & Ayres, Architects records                                                          4.195490\n",
      "Name: count, dtype: float64\n"
     ]
    }
   ],
   "source": [
    "collection_percentages = (df['Collection'].value_counts() / len(df)) * 100\n",
    "sorted_collections = collection_percentages.sort_values(ascending=False)\n",
    "top_5_collections = sorted_collections.head(5)\n",
    "print(\"Top 5 collections by percent of total projects:\")\n",
    "print(top_5_collections)"
   ]
  },
  {
   "cell_type": "code",
   "execution_count": 14,
   "metadata": {},
   "outputs": [
    {
     "name": "stdout",
     "output_type": "stream",
     "text": [
      "Top 5 countries by percent of total:\n",
      "Country\n",
      "United States    80.490411\n",
      "England           2.677015\n",
      "Mexico            1.259772\n",
      "Austria           0.359935\n",
      "Germany           0.078736\n",
      "Name: count, dtype: float64\n"
     ]
    }
   ],
   "source": [
    "country_percentages = (df['Country'].value_counts() / len(df)) * 100\n",
    "sorted_countries = country_percentages.sort_values(ascending=False)\n",
    "top_5_countries = sorted_countries.head(5)\n",
    "print(\"Top 5 countries by percent of total:\")\n",
    "print(top_5_countries)"
   ]
  },
  {
   "cell_type": "code",
   "execution_count": 20,
   "metadata": {},
   "outputs": [
    {
     "name": "stdout",
     "output_type": "stream",
     "text": [
      "Number of rows with empty Location columns: 2176\n"
     ]
    }
   ],
   "source": [
    "columns_to_check = ['Street address', 'City', 'County', 'State/Province', 'Country']\n",
    "rows_with_all_nans = df[df[columns_to_check].isna().sum(axis=1) == len(columns_to_check)]\n",
    "num_rows_with_all_nans = len(rows_with_all_nans)\n",
    "print(\"Number of rows with empty Location columns:\", num_rows_with_all_nans)\n"
   ]
  }
 ],
 "metadata": {
  "kernelspec": {
   "display_name": "Python 3",
   "language": "python",
   "name": "python3"
  },
  "language_info": {
   "codemirror_mode": {
    "name": "ipython",
    "version": 3
   },
   "file_extension": ".py",
   "mimetype": "text/x-python",
   "name": "python",
   "nbconvert_exporter": "python",
   "pygments_lexer": "ipython3",
   "version": "3.11.4"
  }
 },
 "nbformat": 4,
 "nbformat_minor": 2
}
