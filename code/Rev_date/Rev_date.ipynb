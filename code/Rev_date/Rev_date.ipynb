{
 "cells": [
  {
   "cell_type": "code",
   "execution_count": 2,
   "metadata": {},
   "outputs": [
    {
     "name": "stderr",
     "output_type": "stream",
     "text": [
      "C:\\Users\\angel\\AppData\\Roaming\\Python\\Python311\\site-packages\\dateutil\\parser\\_parser.py:1207: UnknownTimezoneWarning: tzname CDT identified but not understood.  Pass `tzinfos` argument in order to correctly return a timezone-aware datetime.  In a future version, this will raise an exception.\n",
      "  warnings.warn(\"tzname {tzname} identified but not understood.  \"\n",
      "C:\\Users\\angel\\AppData\\Roaming\\Python\\Python311\\site-packages\\dateutil\\parser\\_parser.py:1207: UnknownTimezoneWarning: tzname CST identified but not understood.  Pass `tzinfos` argument in order to correctly return a timezone-aware datetime.  In a future version, this will raise an exception.\n",
      "  warnings.warn(\"tzname {tzname} identified but not understood.  \"\n"
     ]
    },
    {
     "name": "stdout",
     "output_type": "stream",
     "text": [
      "Error processing date 3023-01-13 00:00:00: Parser must be a string or character stream, not datetime\n"
     ]
    }
   ],
   "source": [
    "import pandas as pd\n",
    "from dateutil import parser\n",
    "from datetime import datetime\n",
    "\n",
    "# Define timezone information\n",
    "tzinfos = {\n",
    "    \"CST\": -6 * 3600,  # Central Standard Time\n",
    "    \"CDT\": -5 * 3600,  # Central Daylight Time\n",
    "    \"EST\": -5 * 3600,  # Eastern Standard Time\n",
    "    \"EDT\": -4 * 3600,  # Eastern Daylight Time\n",
    "    \"PST\": -8 * 3600,  # Pacific Standard Time\n",
    "    \"PDT\": -7 * 3600   # Pacific Daylight Time\n",
    "}\n",
    "\n",
    "# Define paths for the input and output Excel files\n",
    "\n",
    "input_excel_path = 'C:\\\\Users\\\\angel\\\\OneDrive\\\\Desktop\\\\Capstone\\\\Rev_date\\\\AAA_Proj_db_20231019-MSITM_Architech_curated.xlsx'\n",
    "output_excel_path = 'C:\\\\Users\\\\angel\\\\OneDrive\\\\Desktop\\\\Capstone\\\\Rev_date\\\\AAA_Proj_db_20231019-MSITM_Architech_curated_output.xlsx'\n",
    "\n",
    "# Load the Excel file\n",
    "data = pd.read_excel(input_excel_path)\n",
    "\n",
    "def normalize_date(date):\n",
    "    \"\"\"Normalize different date formats to YYYY-MM-DD, using flexible parsing with timezone support.\"\"\"\n",
    "    if pd.isna(date):\n",
    "        return None, 0  # No data to process, flag as 0\n",
    "    try:\n",
    "        normalized_date = pd.to_datetime(date, errors='coerce', exact=False)\n",
    "        if pd.isna(normalized_date):\n",
    "            normalized_date = parser.parse(date, fuzzy=True, tzinfos=tzinfos)\n",
    "        return normalized_date.strftime('%Y-%m-%d'), 0\n",
    "    except Exception as e:\n",
    "        print(f\"Error processing date {date}: {e}\")  # Logging the error\n",
    "        return None, 1\n",
    "\n",
    "# Apply the normalization function to the \"Rev. date\" column\n",
    "data['Rev. date normalized'], data['Rev. date Flag'] = zip(*data['Rev. date'].apply(normalize_date))\n",
    "\n",
    "# Select relevant columns to save to a new DataFrame\n",
    "output_data = data[['unique ID', 'Rev. date', 'Rev. date normalized', 'Rev. date Flag']]\n",
    "\n",
    "# Save the output DataFrame to the specified Excel file\n",
    "output_data.to_excel(output_excel_path, index=False)\n"
   ]
  }
 ],
 "metadata": {
  "kernelspec": {
   "display_name": "Python 3",
   "language": "python",
   "name": "python3"
  },
  "language_info": {
   "codemirror_mode": {
    "name": "ipython",
    "version": 3
   },
   "file_extension": ".py",
   "mimetype": "text/x-python",
   "name": "python",
   "nbconvert_exporter": "python",
   "pygments_lexer": "ipython3",
   "version": "3.11.5"
  }
 },
 "nbformat": 4,
 "nbformat_minor": 2
}
